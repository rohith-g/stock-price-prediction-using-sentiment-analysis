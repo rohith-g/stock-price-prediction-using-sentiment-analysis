{
 "cells": [
  {
   "cell_type": "markdown",
   "id": "c7d522e0",
   "metadata": {},
   "source": [
    "# Random Forest Classifier"
   ]
  },
  {
   "cell_type": "code",
   "execution_count": 2,
   "id": "e8b3f8d7",
   "metadata": {},
   "outputs": [],
   "source": [
    "import os\n",
    "import numpy\n",
    "import pandas as pd"
   ]
  },
  {
   "cell_type": "markdown",
   "id": "85b73e2e",
   "metadata": {},
   "source": [
    "Scikit learn imports"
   ]
  },
  {
   "cell_type": "code",
   "execution_count": 3,
   "id": "aad979ab",
   "metadata": {},
   "outputs": [],
   "source": [
    "from sklearn.preprocessing import StandardScaler\n",
    "from sklearn.ensemble import RandomForestClassifier\n",
    "from sklearn.metrics import accuracy_score\n",
    "from sklearn.metrics import classification_report\n",
    "from sklearn.metrics import confusion_matrix"
   ]
  },
  {
   "cell_type": "markdown",
   "id": "2b4a6b49",
   "metadata": {},
   "source": [
    "Specify stock names"
   ]
  },
  {
   "cell_type": "code",
   "execution_count": 4,
   "id": "90504ea2",
   "metadata": {},
   "outputs": [],
   "source": [
    "stocks = ['AMZN', 'APPL', 'FB', 'MSFT', 'TSLA']\n",
    "# stocks = ['AMZN']\n",
    "# stocks = ['APPL']"
   ]
  },
  {
   "cell_type": "markdown",
   "id": "f110d46f",
   "metadata": {},
   "source": [
    "Function to get the stock dataset file"
   ]
  },
  {
   "cell_type": "code",
   "execution_count": 5,
   "id": "bc4e83d2",
   "metadata": {},
   "outputs": [],
   "source": [
    "def get_dataset_file(stock):\n",
    "    return './prices_sentiment/%s.csv'%(stock)"
   ]
  },
  {
   "cell_type": "code",
   "execution_count": 6,
   "id": "921ec321",
   "metadata": {},
   "outputs": [],
   "source": [
    "def feature_split(stock_df,remove_stock_volume,remove_volume,remove_close,random):\n",
    "    X = stock_df.copy()\n",
    "    X.drop(\"stock_trend\", axis = 1, inplace = True)\n",
    "    X.drop(\"price_diff\", axis = 1, inplace = True)\n",
    "    X.drop(\"Date\", axis = 1, inplace = True)\n",
    "    \n",
    "    if (remove_stock_volume):\n",
    "        X.drop(\"Volume\", axis = 1, inplace = True)\n",
    "    if (remove_volume):\n",
    "        X.drop(\"twitter_volume\", axis = 1, inplace = True)\n",
    "    if (remove_close):\n",
    "        X.drop(\"Adj Close\", axis = 1, inplace = True)\n",
    "    \n",
    "    y = stock_df[\"stock_trend\"].values.reshape(-1,1)\n",
    "    \n",
    "    return X,y"
   ]
  },
  {
   "cell_type": "code",
   "execution_count": 7,
   "id": "1db8167c",
   "metadata": {},
   "outputs": [],
   "source": [
    "def train_test_split(X, y):\n",
    "    SPLIT = int(0.8 * len(X))\n",
    "    \n",
    "    X_train = X[:SPLIT]\n",
    "    X_test = X[SPLIT:]\n",
    "\n",
    "    y_train = y[:SPLIT]\n",
    "    y_test = y[SPLIT:]\n",
    "    \n",
    "    return X_train,X_test,y_train,y_test"
   ]
  },
  {
   "cell_type": "code",
   "execution_count": 8,
   "id": "805c8554",
   "metadata": {},
   "outputs": [],
   "source": [
    "def scale_data(X_train,X_test):\n",
    "    scaler = StandardScaler()\n",
    "    X_scaler = scaler.fit(X_train)\n",
    "    \n",
    "    X_train_scaled = X_scaler.transform(X_train)\n",
    "    X_test_scaled = X_scaler.transform(X_test)\n",
    "    \n",
    "    return X_train_scaled,X_test_scaled"
   ]
  },
  {
   "cell_type": "code",
   "execution_count": 9,
   "id": "5a39ca14",
   "metadata": {},
   "outputs": [],
   "source": [
    "def random_forest_predict(X_train_scaled,X_test_scaled,y_train,y_test):\n",
    "    # constants\n",
    "#     NUMBER_OF_ESTIMATORS = 750\n",
    "#     RANDOM_STATE = 80\n",
    "    \n",
    "    # configure classifier\n",
    "    classifier = RandomForestClassifier(random_state = 80, n_estimators = 500)\n",
    "        \n",
    "#     classifier = RandomForestClassifier(n_estimators = 750, \n",
    "#                                         random_state = 80, \n",
    "#                                         max_depth = 10,\n",
    "#                                         max_features = 5, \n",
    "#                                         min_samples_leaf = 2,\n",
    "#                                         min_samples_split = 3)\n",
    "    \n",
    "    classifier = classifier.fit(X_train_scaled, y_train.ravel())\n",
    "    \n",
    "    # make prediction\n",
    "    predictions = classifier.predict(X_test_scaled)\n",
    "    \n",
    "    # compare prediction with actual\n",
    "    comparison_df = pd.DataFrame({\"Prediction\": predictions, \"Actual\": y_test.ravel()})\n",
    "    \n",
    "    return predictions"
   ]
  },
  {
   "cell_type": "code",
   "execution_count": 10,
   "id": "f6e625dd",
   "metadata": {},
   "outputs": [],
   "source": [
    "def get_accuracy(y_test,predictions):\n",
    "    accuracy = accuracy_score(y_test, predictions)\n",
    "    return accuracy"
   ]
  },
  {
   "cell_type": "code",
   "execution_count": 19,
   "id": "0737548f",
   "metadata": {},
   "outputs": [],
   "source": [
    "def predict(stock,remove_stock_volume,remove_volume,remove_close,random=True,scale=True):\n",
    "    file = get_dataset_file(stock)\n",
    "    stock_df = pd.read_csv(file, skipinitialspace=True)\n",
    "    \n",
    "    if (random):\n",
    "        stock_df = stock_df.sample(frac=1, random_state=60).reset_index(drop=True)\n",
    "    \n",
    "    X,y = feature_split(stock_df,remove_stock_volume,remove_volume,remove_close,random)\n",
    "\n",
    "    X_train,X_test,y_train,y_test = train_test_split(X,y)\n",
    "    \n",
    "    if (scale):\n",
    "        X_train_scaled,X_test_scaled = scale_data(X_train,X_test)\n",
    "        predictions = random_forest_predict(X_train_scaled,X_test_scaled,y_train,y_test)\n",
    "    else:\n",
    "        predictions = random_forest_predict(X_train,X_test,y_train,y_test)\n",
    "    \n",
    "    accuracy = get_accuracy(y_test,predictions)\n",
    "    print(\"Accuracy:\")\n",
    "    print(f'{stock}: {accuracy}\\n')\n",
    "    \n",
    "    print(f'Classification Report:\\n{classification_report(y_test,predictions)}')\n",
    "    \n",
    "    confusion_matrix_results = confusion_matrix(y_test,\n",
    "                                            predictions)\n",
    "\n",
    "    confusion_matrix_dataframe = pd.DataFrame(confusion_matrix_results,\n",
    "                                      index   = [\"Actual 0\",\"Actual 1\"],\n",
    "                                      columns = [\"Predicted 0\",\"Predicted 1\"])\n",
    "    \n",
    "#     print(f'Confusion Matrix:\\n{display(confusion_matrix_dataframe)}')\n",
    "    display(confusion_matrix_dataframe)"
   ]
  },
  {
   "cell_type": "code",
   "execution_count": 20,
   "id": "fe39b7b7",
   "metadata": {},
   "outputs": [
    {
     "name": "stdout",
     "output_type": "stream",
     "text": [
      "Accuracy:\n",
      "AMZN: 0.5833333333333334\n",
      "\n",
      "Classification Report:\n",
      "              precision    recall  f1-score   support\n",
      "\n",
      "           0       0.52      0.50      0.51        26\n",
      "           1       0.63      0.65      0.64        34\n",
      "\n",
      "    accuracy                           0.58        60\n",
      "   macro avg       0.57      0.57      0.57        60\n",
      "weighted avg       0.58      0.58      0.58        60\n",
      "\n"
     ]
    },
    {
     "data": {
      "text/html": [
       "<div>\n",
       "<style scoped>\n",
       "    .dataframe tbody tr th:only-of-type {\n",
       "        vertical-align: middle;\n",
       "    }\n",
       "\n",
       "    .dataframe tbody tr th {\n",
       "        vertical-align: top;\n",
       "    }\n",
       "\n",
       "    .dataframe thead th {\n",
       "        text-align: right;\n",
       "    }\n",
       "</style>\n",
       "<table border=\"1\" class=\"dataframe\">\n",
       "  <thead>\n",
       "    <tr style=\"text-align: right;\">\n",
       "      <th></th>\n",
       "      <th>Predicted 0</th>\n",
       "      <th>Predicted 1</th>\n",
       "    </tr>\n",
       "  </thead>\n",
       "  <tbody>\n",
       "    <tr>\n",
       "      <th>Actual 0</th>\n",
       "      <td>13</td>\n",
       "      <td>13</td>\n",
       "    </tr>\n",
       "    <tr>\n",
       "      <th>Actual 1</th>\n",
       "      <td>12</td>\n",
       "      <td>22</td>\n",
       "    </tr>\n",
       "  </tbody>\n",
       "</table>\n",
       "</div>"
      ],
      "text/plain": [
       "          Predicted 0  Predicted 1\n",
       "Actual 0           13           13\n",
       "Actual 1           12           22"
      ]
     },
     "metadata": {},
     "output_type": "display_data"
    },
    {
     "name": "stdout",
     "output_type": "stream",
     "text": [
      "Accuracy:\n",
      "APPL: 0.5254237288135594\n",
      "\n",
      "Classification Report:\n",
      "              precision    recall  f1-score   support\n",
      "\n",
      "           0       0.44      0.44      0.44        25\n",
      "           1       0.59      0.59      0.59        34\n",
      "\n",
      "    accuracy                           0.53        59\n",
      "   macro avg       0.51      0.51      0.51        59\n",
      "weighted avg       0.53      0.53      0.53        59\n",
      "\n"
     ]
    },
    {
     "data": {
      "text/html": [
       "<div>\n",
       "<style scoped>\n",
       "    .dataframe tbody tr th:only-of-type {\n",
       "        vertical-align: middle;\n",
       "    }\n",
       "\n",
       "    .dataframe tbody tr th {\n",
       "        vertical-align: top;\n",
       "    }\n",
       "\n",
       "    .dataframe thead th {\n",
       "        text-align: right;\n",
       "    }\n",
       "</style>\n",
       "<table border=\"1\" class=\"dataframe\">\n",
       "  <thead>\n",
       "    <tr style=\"text-align: right;\">\n",
       "      <th></th>\n",
       "      <th>Predicted 0</th>\n",
       "      <th>Predicted 1</th>\n",
       "    </tr>\n",
       "  </thead>\n",
       "  <tbody>\n",
       "    <tr>\n",
       "      <th>Actual 0</th>\n",
       "      <td>11</td>\n",
       "      <td>14</td>\n",
       "    </tr>\n",
       "    <tr>\n",
       "      <th>Actual 1</th>\n",
       "      <td>14</td>\n",
       "      <td>20</td>\n",
       "    </tr>\n",
       "  </tbody>\n",
       "</table>\n",
       "</div>"
      ],
      "text/plain": [
       "          Predicted 0  Predicted 1\n",
       "Actual 0           11           14\n",
       "Actual 1           14           20"
      ]
     },
     "metadata": {},
     "output_type": "display_data"
    },
    {
     "name": "stdout",
     "output_type": "stream",
     "text": [
      "Accuracy:\n",
      "FB: 0.7\n",
      "\n",
      "Classification Report:\n",
      "              precision    recall  f1-score   support\n",
      "\n",
      "           0       0.65      0.74      0.69        27\n",
      "           1       0.76      0.67      0.71        33\n",
      "\n",
      "    accuracy                           0.70        60\n",
      "   macro avg       0.70      0.70      0.70        60\n",
      "weighted avg       0.71      0.70      0.70        60\n",
      "\n"
     ]
    },
    {
     "data": {
      "text/html": [
       "<div>\n",
       "<style scoped>\n",
       "    .dataframe tbody tr th:only-of-type {\n",
       "        vertical-align: middle;\n",
       "    }\n",
       "\n",
       "    .dataframe tbody tr th {\n",
       "        vertical-align: top;\n",
       "    }\n",
       "\n",
       "    .dataframe thead th {\n",
       "        text-align: right;\n",
       "    }\n",
       "</style>\n",
       "<table border=\"1\" class=\"dataframe\">\n",
       "  <thead>\n",
       "    <tr style=\"text-align: right;\">\n",
       "      <th></th>\n",
       "      <th>Predicted 0</th>\n",
       "      <th>Predicted 1</th>\n",
       "    </tr>\n",
       "  </thead>\n",
       "  <tbody>\n",
       "    <tr>\n",
       "      <th>Actual 0</th>\n",
       "      <td>20</td>\n",
       "      <td>7</td>\n",
       "    </tr>\n",
       "    <tr>\n",
       "      <th>Actual 1</th>\n",
       "      <td>11</td>\n",
       "      <td>22</td>\n",
       "    </tr>\n",
       "  </tbody>\n",
       "</table>\n",
       "</div>"
      ],
      "text/plain": [
       "          Predicted 0  Predicted 1\n",
       "Actual 0           20            7\n",
       "Actual 1           11           22"
      ]
     },
     "metadata": {},
     "output_type": "display_data"
    },
    {
     "name": "stdout",
     "output_type": "stream",
     "text": [
      "Accuracy:\n",
      "MSFT: 0.6\n",
      "\n",
      "Classification Report:\n",
      "              precision    recall  f1-score   support\n",
      "\n",
      "           0       0.47      0.64      0.54        22\n",
      "           1       0.73      0.58      0.65        38\n",
      "\n",
      "    accuracy                           0.60        60\n",
      "   macro avg       0.60      0.61      0.59        60\n",
      "weighted avg       0.64      0.60      0.61        60\n",
      "\n"
     ]
    },
    {
     "data": {
      "text/html": [
       "<div>\n",
       "<style scoped>\n",
       "    .dataframe tbody tr th:only-of-type {\n",
       "        vertical-align: middle;\n",
       "    }\n",
       "\n",
       "    .dataframe tbody tr th {\n",
       "        vertical-align: top;\n",
       "    }\n",
       "\n",
       "    .dataframe thead th {\n",
       "        text-align: right;\n",
       "    }\n",
       "</style>\n",
       "<table border=\"1\" class=\"dataframe\">\n",
       "  <thead>\n",
       "    <tr style=\"text-align: right;\">\n",
       "      <th></th>\n",
       "      <th>Predicted 0</th>\n",
       "      <th>Predicted 1</th>\n",
       "    </tr>\n",
       "  </thead>\n",
       "  <tbody>\n",
       "    <tr>\n",
       "      <th>Actual 0</th>\n",
       "      <td>14</td>\n",
       "      <td>8</td>\n",
       "    </tr>\n",
       "    <tr>\n",
       "      <th>Actual 1</th>\n",
       "      <td>16</td>\n",
       "      <td>22</td>\n",
       "    </tr>\n",
       "  </tbody>\n",
       "</table>\n",
       "</div>"
      ],
      "text/plain": [
       "          Predicted 0  Predicted 1\n",
       "Actual 0           14            8\n",
       "Actual 1           16           22"
      ]
     },
     "metadata": {},
     "output_type": "display_data"
    },
    {
     "name": "stdout",
     "output_type": "stream",
     "text": [
      "Accuracy:\n",
      "TSLA: 0.6166666666666667\n",
      "\n",
      "Classification Report:\n",
      "              precision    recall  f1-score   support\n",
      "\n",
      "           0       0.67      0.36      0.47        28\n",
      "           1       0.60      0.84      0.70        32\n",
      "\n",
      "    accuracy                           0.62        60\n",
      "   macro avg       0.63      0.60      0.58        60\n",
      "weighted avg       0.63      0.62      0.59        60\n",
      "\n"
     ]
    },
    {
     "data": {
      "text/html": [
       "<div>\n",
       "<style scoped>\n",
       "    .dataframe tbody tr th:only-of-type {\n",
       "        vertical-align: middle;\n",
       "    }\n",
       "\n",
       "    .dataframe tbody tr th {\n",
       "        vertical-align: top;\n",
       "    }\n",
       "\n",
       "    .dataframe thead th {\n",
       "        text-align: right;\n",
       "    }\n",
       "</style>\n",
       "<table border=\"1\" class=\"dataframe\">\n",
       "  <thead>\n",
       "    <tr style=\"text-align: right;\">\n",
       "      <th></th>\n",
       "      <th>Predicted 0</th>\n",
       "      <th>Predicted 1</th>\n",
       "    </tr>\n",
       "  </thead>\n",
       "  <tbody>\n",
       "    <tr>\n",
       "      <th>Actual 0</th>\n",
       "      <td>10</td>\n",
       "      <td>18</td>\n",
       "    </tr>\n",
       "    <tr>\n",
       "      <th>Actual 1</th>\n",
       "      <td>5</td>\n",
       "      <td>27</td>\n",
       "    </tr>\n",
       "  </tbody>\n",
       "</table>\n",
       "</div>"
      ],
      "text/plain": [
       "          Predicted 0  Predicted 1\n",
       "Actual 0           10           18\n",
       "Actual 1            5           27"
      ]
     },
     "metadata": {},
     "output_type": "display_data"
    }
   ],
   "source": [
    "for stock in stocks:\n",
    "    random=True\n",
    "    scale=True\n",
    "    remove_stock_volume=False\n",
    "    remove_volume=True\n",
    "    remove_close=False\n",
    "    predict(stock,remove_stock_volume,remove_volume,remove_close,random,scale)"
   ]
  },
  {
   "cell_type": "code",
   "execution_count": null,
   "id": "1957a35a",
   "metadata": {},
   "outputs": [],
   "source": []
  }
 ],
 "metadata": {
  "kernelspec": {
   "display_name": "Python 3 (ipykernel)",
   "language": "python",
   "name": "python3"
  },
  "language_info": {
   "codemirror_mode": {
    "name": "ipython",
    "version": 3
   },
   "file_extension": ".py",
   "mimetype": "text/x-python",
   "name": "python",
   "nbconvert_exporter": "python",
   "pygments_lexer": "ipython3",
   "version": "3.9.5"
  }
 },
 "nbformat": 4,
 "nbformat_minor": 5
}
