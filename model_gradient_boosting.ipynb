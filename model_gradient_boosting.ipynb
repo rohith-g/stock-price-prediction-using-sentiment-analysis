{
 "cells": [
  {
   "cell_type": "markdown",
   "id": "a6d76281",
   "metadata": {},
   "source": [
    "# Gradient Boosting Classifier"
   ]
  },
  {
   "cell_type": "code",
   "execution_count": 5,
   "id": "e8b3f8d7",
   "metadata": {},
   "outputs": [],
   "source": [
    "import os\n",
    "import numpy\n",
    "import pandas as pd"
   ]
  },
  {
   "cell_type": "markdown",
   "id": "85b73e2e",
   "metadata": {},
   "source": [
    "Scikit learn imports"
   ]
  },
  {
   "cell_type": "code",
   "execution_count": 6,
   "id": "aad979ab",
   "metadata": {},
   "outputs": [],
   "source": [
    "from sklearn.preprocessing import StandardScaler\n",
    "from sklearn.ensemble import GradientBoostingClassifier\n",
    "from sklearn.metrics import accuracy_score\n",
    "from sklearn.metrics import classification_report\n",
    "from sklearn.metrics import confusion_matrix"
   ]
  },
  {
   "cell_type": "markdown",
   "id": "2b4a6b49",
   "metadata": {},
   "source": [
    "Specify stock names"
   ]
  },
  {
   "cell_type": "code",
   "execution_count": 7,
   "id": "90504ea2",
   "metadata": {},
   "outputs": [],
   "source": [
    "# stocks = ['AMZN']\n",
    "stocks = ['AMZN', 'APPL', 'FB', 'MSFT', 'TSLA']"
   ]
  },
  {
   "cell_type": "markdown",
   "id": "f110d46f",
   "metadata": {},
   "source": [
    "Function to get the stock dataset file"
   ]
  },
  {
   "cell_type": "code",
   "execution_count": 8,
   "id": "bc4e83d2",
   "metadata": {},
   "outputs": [],
   "source": [
    "def get_dataset_file(stock):\n",
    "    return './prices_sentiment/%s.csv'%(stock)"
   ]
  },
  {
   "cell_type": "code",
   "execution_count": 9,
   "id": "921ec321",
   "metadata": {},
   "outputs": [],
   "source": [
    "def feature_split(stock_df,remove_stock_volume,remove_volume,remove_close,random):\n",
    "    X = stock_df.copy()\n",
    "    X.drop(\"stock_trend\", axis = 1, inplace = True)\n",
    "    X.drop(\"price_diff\", axis = 1, inplace = True)\n",
    "    X.drop(\"Date\", axis = 1, inplace = True)\n",
    "    \n",
    "    if (remove_stock_volume):\n",
    "        X.drop(\"Volume\", axis = 1, inplace = True)\n",
    "    if (remove_volume):\n",
    "        X.drop(\"twitter_volume\", axis = 1, inplace = True)\n",
    "    if (remove_close):\n",
    "        X.drop(\"Adj Close\", axis = 1, inplace = True)\n",
    "    \n",
    "    y = stock_df[\"stock_trend\"].values.reshape(-1,1)\n",
    "    \n",
    "    return X,y"
   ]
  },
  {
   "cell_type": "code",
   "execution_count": 10,
   "id": "1db8167c",
   "metadata": {},
   "outputs": [],
   "source": [
    "def train_test_split(X, y):\n",
    "    SPLIT = int(0.8 * len(X))\n",
    "    \n",
    "    X_train = X[:SPLIT]\n",
    "    X_test = X[SPLIT:]\n",
    "\n",
    "    y_train = y[:SPLIT]\n",
    "    y_test = y[SPLIT:]\n",
    "    \n",
    "    return X_train,X_test,y_train,y_test"
   ]
  },
  {
   "cell_type": "code",
   "execution_count": 11,
   "id": "805c8554",
   "metadata": {},
   "outputs": [],
   "source": [
    "def scale_data(X_train,X_test):\n",
    "    scaler = StandardScaler()\n",
    "    X_scaler = scaler.fit(X_train)\n",
    "    \n",
    "    X_train_scaled = X_scaler.transform(X_train)\n",
    "    X_test_scaled = X_scaler.transform(X_test)\n",
    "    \n",
    "    return X_train_scaled,X_test_scaled"
   ]
  },
  {
   "cell_type": "code",
   "execution_count": 30,
   "id": "5a39ca14",
   "metadata": {},
   "outputs": [],
   "source": [
    "def gradient_boosting_predict(learning_rates,X_train_scaled,X_test_scaled,y_train,y_test):    \n",
    "    # constants\n",
    "    NUMBER_OF_ESTIMATORS  = 30\n",
    "    MAX_NUMBER_OF_FEATURES = 5\n",
    "    MAX_DEPTH = 3\n",
    "    RANDOM_STATE_CONSTANT = 0\n",
    "    \n",
    "    # store_best_learning_rate\n",
    "    learning_rate_dict = {}\n",
    "    \n",
    "    # configure classifier\n",
    "    for learning_rate in learning_rates:\n",
    "        classifier = GradientBoostingClassifier(n_estimators  = NUMBER_OF_ESTIMATORS,\n",
    "                                                  learning_rate = learning_rate,\n",
    "                                                  max_features  = MAX_NUMBER_OF_FEATURES,\n",
    "                                                  max_depth     = MAX_DEPTH,\n",
    "                                                  random_state  = RANDOM_STATE_CONSTANT)\n",
    "\n",
    "        classifier.fit(X_train_scaled,y_train.ravel())\n",
    "        training_score = classifier.score(X_train_scaled, y_train.ravel())\n",
    "        testing_score  = classifier.score(X_test_scaled, y_test.ravel())\n",
    "        learning_rate_dict[learning_rate] = [training_score,testing_score]\n",
    "        \n",
    "\n",
    "    best_learning_rate = learning_rates[0]\n",
    "    best_accuracy_train = learning_rate_dict[best_learning_rate][0]\n",
    "    best_accuracy_test = learning_rate_dict[best_learning_rate][1]\n",
    "    \n",
    "    for rate, accuracies in learning_rate_dict.items():\n",
    "        train = accuracies[0]\n",
    "        test = accuracies[1]\n",
    "        \n",
    "        if (train < 0.5) or (test < 0.5):\n",
    "            continue\n",
    "        else:\n",
    "            if (test > best_accuracy_test):\n",
    "                best_learning_rate = rate\n",
    "                best_accuracy_train = train\n",
    "                best_accuracy_test = test\n",
    "            elif (test == best_accuracy_test):\n",
    "                if (train > best_accuracy_train):\n",
    "                    best_learning_rate = rate\n",
    "                    best_accuracy_train = train\n",
    "                    best_accuracy_test = test\n",
    "                    \n",
    "            \n",
    "    print(\"Learning rate: \", best_learning_rate)\n",
    "    \n",
    "    classifier = GradientBoostingClassifier(n_estimators  = NUMBER_OF_ESTIMATORS,\n",
    "                                            learning_rate = best_learning_rate,\n",
    "                                            max_features  = MAX_NUMBER_OF_FEATURES,\n",
    "                                            max_depth     = MAX_DEPTH,\n",
    "                                            random_state  = RANDOM_STATE_CONSTANT)\n",
    "    classifier = classifier.fit(X_train_scaled, y_train.ravel())\n",
    "    \n",
    "    training_score = classifier.score(X_train_scaled, y_train)\n",
    "    testing_score  = classifier.score(X_test_scaled, y_test)\n",
    "#     print(\"Training Score: \", training_score)\n",
    "#     print(\"Testing Score: \", testing_score)\n",
    "\n",
    "    # make prediction\n",
    "    predictions = classifier.predict(X_test_scaled)\n",
    "\n",
    "    # compare prediction with actual\n",
    "    comparison_df = pd.DataFrame({\"Prediction\": predictions, \"Actual\": y_test.ravel()})\n",
    "\n",
    "    return predictions"
   ]
  },
  {
   "cell_type": "code",
   "execution_count": 31,
   "id": "f6e625dd",
   "metadata": {},
   "outputs": [],
   "source": [
    "def get_accuracy(y_test,predictions):\n",
    "    accuracy = accuracy_score(y_test, predictions)\n",
    "    return accuracy"
   ]
  },
  {
   "cell_type": "code",
   "execution_count": 34,
   "id": "0737548f",
   "metadata": {},
   "outputs": [],
   "source": [
    "def predict(stock,remove_stock_volume,remove_volume,remove_close,random=True,scale=True):\n",
    "    file = get_dataset_file(stock)\n",
    "    stock_df = pd.read_csv(file, skipinitialspace=True)\n",
    "    \n",
    "    if (random):\n",
    "        stock_df = stock_df.sample(frac=1, random_state=60).reset_index(drop=True)\n",
    "    \n",
    "    X,y = feature_split(stock_df,remove_stock_volume,remove_volume,remove_close,random)\n",
    "\n",
    "    X_train,X_test,y_train,y_test = train_test_split(X,y)\n",
    "    \n",
    "#     learning_rates = [0.75]\n",
    "    learning_rates = [0.05, 0.1, 0.25, 0.5, 0.75, 1.25, 1.5, 2.0]\n",
    "    \n",
    "    if (scale):\n",
    "        X_train_scaled,X_test_scaled = scale_data(X_train,X_test)\n",
    "        predictions = gradient_boosting_predict(learning_rates,X_train_scaled,X_test_scaled,y_train,y_test)\n",
    "    else:\n",
    "        predictions = gradient_boosting_predict(learning_rates,X_train,X_test,y_train,y_test)\n",
    "    \n",
    "    accuracy = get_accuracy(y_test,predictions)\n",
    "#     print(\"Accuracy:\")\n",
    "    print(f'{stock}: {accuracy}\\n')\n",
    "    \n",
    "    print(f'\\nClassification Report:\\n{classification_report(y_test,predictions)}')\n",
    "    \n",
    "    confusion_matrix_results = confusion_matrix(y_test,\n",
    "                                            predictions)\n",
    "\n",
    "    confusion_matrix_dataframe = pd.DataFrame(confusion_matrix_results,\n",
    "                                      index   = [\"Actual 0\",\"Actual 1\"],\n",
    "                                      columns = [\"Predicted 0\",\"Predicted 1\"])\n",
    "\n",
    "    display(confusion_matrix_dataframe)"
   ]
  },
  {
   "cell_type": "code",
   "execution_count": 35,
   "id": "98686041",
   "metadata": {
    "scrolled": false
   },
   "outputs": [
    {
     "name": "stdout",
     "output_type": "stream",
     "text": [
      "AMZN\n",
      "----\n",
      "Learning rate:  0.75\n",
      "AMZN: 0.6333333333333333\n",
      "\n",
      "\n",
      "Classification Report:\n",
      "              precision    recall  f1-score   support\n",
      "\n",
      "           0       0.58      0.54      0.56        26\n",
      "           1       0.67      0.71      0.69        34\n",
      "\n",
      "    accuracy                           0.63        60\n",
      "   macro avg       0.62      0.62      0.62        60\n",
      "weighted avg       0.63      0.63      0.63        60\n",
      "\n"
     ]
    },
    {
     "data": {
      "text/html": [
       "<div>\n",
       "<style scoped>\n",
       "    .dataframe tbody tr th:only-of-type {\n",
       "        vertical-align: middle;\n",
       "    }\n",
       "\n",
       "    .dataframe tbody tr th {\n",
       "        vertical-align: top;\n",
       "    }\n",
       "\n",
       "    .dataframe thead th {\n",
       "        text-align: right;\n",
       "    }\n",
       "</style>\n",
       "<table border=\"1\" class=\"dataframe\">\n",
       "  <thead>\n",
       "    <tr style=\"text-align: right;\">\n",
       "      <th></th>\n",
       "      <th>Predicted 0</th>\n",
       "      <th>Predicted 1</th>\n",
       "    </tr>\n",
       "  </thead>\n",
       "  <tbody>\n",
       "    <tr>\n",
       "      <th>Actual 0</th>\n",
       "      <td>14</td>\n",
       "      <td>12</td>\n",
       "    </tr>\n",
       "    <tr>\n",
       "      <th>Actual 1</th>\n",
       "      <td>10</td>\n",
       "      <td>24</td>\n",
       "    </tr>\n",
       "  </tbody>\n",
       "</table>\n",
       "</div>"
      ],
      "text/plain": [
       "          Predicted 0  Predicted 1\n",
       "Actual 0           14           12\n",
       "Actual 1           10           24"
      ]
     },
     "metadata": {},
     "output_type": "display_data"
    },
    {
     "name": "stdout",
     "output_type": "stream",
     "text": [
      "APPL\n",
      "----\n",
      "Learning rate:  1.25\n",
      "APPL: 0.5423728813559322\n",
      "\n",
      "\n",
      "Classification Report:\n",
      "              precision    recall  f1-score   support\n",
      "\n",
      "           0       0.47      0.60      0.53        25\n",
      "           1       0.63      0.50      0.56        34\n",
      "\n",
      "    accuracy                           0.54        59\n",
      "   macro avg       0.55      0.55      0.54        59\n",
      "weighted avg       0.56      0.54      0.54        59\n",
      "\n"
     ]
    },
    {
     "data": {
      "text/html": [
       "<div>\n",
       "<style scoped>\n",
       "    .dataframe tbody tr th:only-of-type {\n",
       "        vertical-align: middle;\n",
       "    }\n",
       "\n",
       "    .dataframe tbody tr th {\n",
       "        vertical-align: top;\n",
       "    }\n",
       "\n",
       "    .dataframe thead th {\n",
       "        text-align: right;\n",
       "    }\n",
       "</style>\n",
       "<table border=\"1\" class=\"dataframe\">\n",
       "  <thead>\n",
       "    <tr style=\"text-align: right;\">\n",
       "      <th></th>\n",
       "      <th>Predicted 0</th>\n",
       "      <th>Predicted 1</th>\n",
       "    </tr>\n",
       "  </thead>\n",
       "  <tbody>\n",
       "    <tr>\n",
       "      <th>Actual 0</th>\n",
       "      <td>15</td>\n",
       "      <td>10</td>\n",
       "    </tr>\n",
       "    <tr>\n",
       "      <th>Actual 1</th>\n",
       "      <td>17</td>\n",
       "      <td>17</td>\n",
       "    </tr>\n",
       "  </tbody>\n",
       "</table>\n",
       "</div>"
      ],
      "text/plain": [
       "          Predicted 0  Predicted 1\n",
       "Actual 0           15           10\n",
       "Actual 1           17           17"
      ]
     },
     "metadata": {},
     "output_type": "display_data"
    },
    {
     "name": "stdout",
     "output_type": "stream",
     "text": [
      "FB\n",
      "----\n",
      "Learning rate:  0.1\n",
      "FB: 0.65\n",
      "\n",
      "\n",
      "Classification Report:\n",
      "              precision    recall  f1-score   support\n",
      "\n",
      "           0       0.65      0.48      0.55        27\n",
      "           1       0.65      0.79      0.71        33\n",
      "\n",
      "    accuracy                           0.65        60\n",
      "   macro avg       0.65      0.63      0.63        60\n",
      "weighted avg       0.65      0.65      0.64        60\n",
      "\n"
     ]
    },
    {
     "data": {
      "text/html": [
       "<div>\n",
       "<style scoped>\n",
       "    .dataframe tbody tr th:only-of-type {\n",
       "        vertical-align: middle;\n",
       "    }\n",
       "\n",
       "    .dataframe tbody tr th {\n",
       "        vertical-align: top;\n",
       "    }\n",
       "\n",
       "    .dataframe thead th {\n",
       "        text-align: right;\n",
       "    }\n",
       "</style>\n",
       "<table border=\"1\" class=\"dataframe\">\n",
       "  <thead>\n",
       "    <tr style=\"text-align: right;\">\n",
       "      <th></th>\n",
       "      <th>Predicted 0</th>\n",
       "      <th>Predicted 1</th>\n",
       "    </tr>\n",
       "  </thead>\n",
       "  <tbody>\n",
       "    <tr>\n",
       "      <th>Actual 0</th>\n",
       "      <td>13</td>\n",
       "      <td>14</td>\n",
       "    </tr>\n",
       "    <tr>\n",
       "      <th>Actual 1</th>\n",
       "      <td>7</td>\n",
       "      <td>26</td>\n",
       "    </tr>\n",
       "  </tbody>\n",
       "</table>\n",
       "</div>"
      ],
      "text/plain": [
       "          Predicted 0  Predicted 1\n",
       "Actual 0           13           14\n",
       "Actual 1            7           26"
      ]
     },
     "metadata": {},
     "output_type": "display_data"
    },
    {
     "name": "stdout",
     "output_type": "stream",
     "text": [
      "MSFT\n",
      "----\n",
      "Learning rate:  0.05\n",
      "MSFT: 0.6\n",
      "\n",
      "\n",
      "Classification Report:\n",
      "              precision    recall  f1-score   support\n",
      "\n",
      "           0       0.46      0.50      0.48        22\n",
      "           1       0.69      0.66      0.68        38\n",
      "\n",
      "    accuracy                           0.60        60\n",
      "   macro avg       0.58      0.58      0.58        60\n",
      "weighted avg       0.61      0.60      0.60        60\n",
      "\n"
     ]
    },
    {
     "data": {
      "text/html": [
       "<div>\n",
       "<style scoped>\n",
       "    .dataframe tbody tr th:only-of-type {\n",
       "        vertical-align: middle;\n",
       "    }\n",
       "\n",
       "    .dataframe tbody tr th {\n",
       "        vertical-align: top;\n",
       "    }\n",
       "\n",
       "    .dataframe thead th {\n",
       "        text-align: right;\n",
       "    }\n",
       "</style>\n",
       "<table border=\"1\" class=\"dataframe\">\n",
       "  <thead>\n",
       "    <tr style=\"text-align: right;\">\n",
       "      <th></th>\n",
       "      <th>Predicted 0</th>\n",
       "      <th>Predicted 1</th>\n",
       "    </tr>\n",
       "  </thead>\n",
       "  <tbody>\n",
       "    <tr>\n",
       "      <th>Actual 0</th>\n",
       "      <td>11</td>\n",
       "      <td>11</td>\n",
       "    </tr>\n",
       "    <tr>\n",
       "      <th>Actual 1</th>\n",
       "      <td>13</td>\n",
       "      <td>25</td>\n",
       "    </tr>\n",
       "  </tbody>\n",
       "</table>\n",
       "</div>"
      ],
      "text/plain": [
       "          Predicted 0  Predicted 1\n",
       "Actual 0           11           11\n",
       "Actual 1           13           25"
      ]
     },
     "metadata": {},
     "output_type": "display_data"
    },
    {
     "name": "stdout",
     "output_type": "stream",
     "text": [
      "TSLA\n",
      "----\n",
      "Learning rate:  0.1\n",
      "TSLA: 0.65\n",
      "\n",
      "\n",
      "Classification Report:\n",
      "              precision    recall  f1-score   support\n",
      "\n",
      "           0       0.71      0.43      0.53        28\n",
      "           1       0.63      0.84      0.72        32\n",
      "\n",
      "    accuracy                           0.65        60\n",
      "   macro avg       0.67      0.64      0.63        60\n",
      "weighted avg       0.66      0.65      0.63        60\n",
      "\n"
     ]
    },
    {
     "data": {
      "text/html": [
       "<div>\n",
       "<style scoped>\n",
       "    .dataframe tbody tr th:only-of-type {\n",
       "        vertical-align: middle;\n",
       "    }\n",
       "\n",
       "    .dataframe tbody tr th {\n",
       "        vertical-align: top;\n",
       "    }\n",
       "\n",
       "    .dataframe thead th {\n",
       "        text-align: right;\n",
       "    }\n",
       "</style>\n",
       "<table border=\"1\" class=\"dataframe\">\n",
       "  <thead>\n",
       "    <tr style=\"text-align: right;\">\n",
       "      <th></th>\n",
       "      <th>Predicted 0</th>\n",
       "      <th>Predicted 1</th>\n",
       "    </tr>\n",
       "  </thead>\n",
       "  <tbody>\n",
       "    <tr>\n",
       "      <th>Actual 0</th>\n",
       "      <td>12</td>\n",
       "      <td>16</td>\n",
       "    </tr>\n",
       "    <tr>\n",
       "      <th>Actual 1</th>\n",
       "      <td>5</td>\n",
       "      <td>27</td>\n",
       "    </tr>\n",
       "  </tbody>\n",
       "</table>\n",
       "</div>"
      ],
      "text/plain": [
       "          Predicted 0  Predicted 1\n",
       "Actual 0           12           16\n",
       "Actual 1            5           27"
      ]
     },
     "metadata": {},
     "output_type": "display_data"
    }
   ],
   "source": [
    "for stock in stocks:\n",
    "    print(stock)\n",
    "    print(\"----\")\n",
    "    random=True\n",
    "    scale=True\n",
    "    remove_stock_volume=False\n",
    "    remove_volume=False\n",
    "    remove_close=False\n",
    "    predict(stock,remove_stock_volume,remove_volume,remove_close,random,scale)"
   ]
  },
  {
   "cell_type": "code",
   "execution_count": null,
   "id": "27385924",
   "metadata": {},
   "outputs": [],
   "source": []
  },
  {
   "cell_type": "code",
   "execution_count": null,
   "id": "29fddbb3",
   "metadata": {},
   "outputs": [],
   "source": []
  },
  {
   "cell_type": "code",
   "execution_count": null,
   "id": "0dde3dad",
   "metadata": {},
   "outputs": [],
   "source": []
  }
 ],
 "metadata": {
  "kernelspec": {
   "display_name": "Python 3 (ipykernel)",
   "language": "python",
   "name": "python3"
  },
  "language_info": {
   "codemirror_mode": {
    "name": "ipython",
    "version": 3
   },
   "file_extension": ".py",
   "mimetype": "text/x-python",
   "name": "python",
   "nbconvert_exporter": "python",
   "pygments_lexer": "ipython3",
   "version": "3.9.5"
  }
 },
 "nbformat": 4,
 "nbformat_minor": 5
}
